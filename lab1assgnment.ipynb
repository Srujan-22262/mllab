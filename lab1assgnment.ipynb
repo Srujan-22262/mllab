{
 "cells": [
  {
   "cell_type": "code",
   "execution_count": 1,
   "id": "3e52d820",
   "metadata": {},
   "outputs": [
    {
     "name": "stdout",
     "output_type": "stream",
     "text": [
      "Enter the string:srujan\n",
      "Vowels : 2\n",
      "Consonants : 4\n"
     ]
    }
   ],
   "source": [
    "def countVowelsConsonants(string):\n",
    "    vowels = \"aeiou\"\n",
    "    vowelCount = 0\n",
    "    consonantCount = 0\n",
    "    for char in string.lower():\n",
    "        if char.isalpha():\n",
    "            if char in vowels:\n",
    "                vowelCount = vowelCount + 1\n",
    "            else:\n",
    "                consonantCount = consonantCount + 1\n",
    "    return vowelCount, consonantCount\n",
    "inputString = input(\"Enter the string:\")\n",
    "vowelCount, consonantCount = countVowelsConsonants(inputString)\n",
    "print(f\"Vowels : {vowelCount}\")\n",
    "print(f\"Consonants : {consonantCount}\")"
   ]
  },
  {
   "cell_type": "code",
   "execution_count": 2,
   "id": "ca2906d7",
   "metadata": {},
   "outputs": [
    {
     "name": "stdout",
     "output_type": "stream",
     "text": [
      "Enter the first list: 2,3,5,6\n",
      "Enter the second list : 5,6,8,9\n",
      "Common elements: [5, 6]\n"
     ]
    }
   ],
   "source": [
    "def findCommonElements(list1, list2):\n",
    "    set1 = set(list1)\n",
    "    set2 = set(list2)\n",
    "    commonElements = set1.intersection(set2)\n",
    "    commonElementsList = list(commonElements)\n",
    "    return commonElementsList\n",
    "def userInput(prompt):\n",
    "    while True:\n",
    "        try:\n",
    "           \n",
    "            user_input = input(prompt)\n",
    "            user_list = list(map(int, user_input.split(',')))\n",
    "            return user_list\n",
    "        except ValueError:\n",
    "            print(\"Invalid input.\")\n",
    "list1 = userInput(\"Enter the first list: \")\n",
    "list2 = userInput(\"Enter the second list : \")\n",
    "commonElements = findCommonElements(list1, list2)\n",
    "print(\"Common elements:\", commonElements)"
   ]
  },
  {
   "cell_type": "code",
   "execution_count": null,
   "id": "e26d49e3",
   "metadata": {},
   "outputs": [
    {
     "name": "stdout",
     "output_type": "stream",
     "text": [
      "Enter the number of rows: 5\n",
      "Enter the number of columns: 5\n",
      "Enter the elements of the matrix (row-wise):\n",
      "Row 1: 3,2,1,4,5\n",
      "Invalid input. Please enter integers only.\n",
      "Row 1: 32145\n",
      "Please enter exactly 5 integers for row 1.\n",
      "Row 1: 12345\n",
      "Please enter exactly 5 integers for row 1.\n",
      "Row 1: 1,2,3,4,5\n",
      "Invalid input. Please enter integers only.\n"
     ]
    }
   ],
   "source": [
    "def getMatrix(rows, cols):\n",
    "    matrix = []\n",
    "    print(f\"Enter the elements of the matrix (row-wise):\")\n",
    "    for i in range(rows):\n",
    "        while True:\n",
    "            try:\n",
    "                row = list(map(int, input(f\"Row {i + 1}: \").split()))\n",
    "                if len(row) != cols:\n",
    "                    print(f\"Please enter exactly {cols} integers for row {i + 1}.\")\n",
    "                    continue\n",
    "                matrix.append(row)\n",
    "                break\n",
    "            except ValueError:\n",
    "                print(\"Invalid input. Please enter integers only.\")\n",
    "    return matrix\n",
    "\n",
    "def transposeMatrix(matrix):\n",
    "    return [[matrix[j][i] for j in range(len(matrix))] for i in range(len(matrix[0]))]\n",
    "\n",
    "def printMatrix(matrix):\n",
    "    for row in matrix:\n",
    "        print(\" \".join(map(str, row)))\n",
    "def main():\n",
    "    while True:\n",
    "        try:\n",
    "            rows = int(input(\"Enter the number of rows: \"))\n",
    "            cols = int(input(\"Enter the number of columns: \"))\n",
    "            if rows <= 0 or cols <= 0:\n",
    "                print(\"Please enter positive integers for rows and columns.\")\n",
    "                continue\n",
    "            break\n",
    "        except ValueError:\n",
    "            print(\"Invalid input. Please enter positive integers.\")\n",
    "    matrix = getMatrix(rows, cols)\n",
    "    transposed = transposeMatrix(matrix)\n",
    "    print(\"\\nOriginal Matrix:\")\n",
    "    print_matrix(matrix)\n",
    "    print(\"\\nTransposed Matrix:\")\n",
    "    printMatrix(transposed)\n",
    "if __name__ == \"__main__\":\n",
    "    main()"
   ]
  },
  {
   "cell_type": "code",
   "execution_count": null,
   "id": "85424271",
   "metadata": {},
   "outputs": [],
   "source": [
    "def is_multiplicable(matrix_a, matrix_b):\n",
    "    return len(matrix_a[0]) == len(matrix_b)\n",
    "def matrix_multiplication(matrix_a, matrix_b):\n",
    "    rows_a = len(matrix_a)\n",
    "    cols_a = len(matrix_a[0])\n",
    "    cols_b = len(matrix_b[0])\n",
    "    \n",
    "    product_matrix = [[0 for _ in range(cols_b)] for _ in range(rows_a)]\n",
    "    \n",
    "    for i in range(rows_a):\n",
    "    for j in range(cols_b):\n",
    "            for k in range(cols_a):\n",
    "                product_matrix[i][j] += matrix_a[i][k] * matrix_b[k][j]\n",
    "    \n",
    "      return product_matrix\n",
    "\n",
    "def main():\n",
    "    matrix_a = [[1, 2, 3], [4, 5, 6]]\n",
    "matrix_b = [[7, 8], [9, 10], [11, 12]]\n",
    "    \n",
    "    if is_multiplicable(matrix_a, matrix_b):\n",
    "        product = matrix_multiplication(matrix_a, matrix_b)\n",
    "        print(\"Product of matrices A and B:\")\n",
    "        for row in product:\n",
    "            print(row)\n",
    "else:\n",
    "        print(\"Error: Matrices A and B can't be multiplied.\")\n",
    "\n",
    "if __name__ == \"__main__\":\n",
    "    main()"
   ]
  },
  {
   "cell_type": "code",
   "execution_count": null,
   "id": "0dd3b08f",
   "metadata": {},
   "outputs": [],
   "source": []
  }
 ],
 "metadata": {
  "kernelspec": {
   "display_name": "Python 3 (ipykernel)",
   "language": "python",
   "name": "python3"
  },
  "language_info": {
   "codemirror_mode": {
    "name": "ipython",
    "version": 3
   },
   "file_extension": ".py",
   "mimetype": "text/x-python",
   "name": "python",
   "nbconvert_exporter": "python",
   "pygments_lexer": "ipython3",
   "version": "3.11.4"
  }
 },
 "nbformat": 4,
 "nbformat_minor": 5
}
